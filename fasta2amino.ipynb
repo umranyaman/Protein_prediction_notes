# Loading FASTA file
seq_file_read = SeqIO.read("Sequence_data/sequence.fasta", "fasta")
seq_file_read

type(seq_file_read)

# list sequence details
seq_file_read.id

# list sequence details
for record in SeqIO.parse("Sequence_data/sequence.fasta", "fasta"):
    print(record)
    
# store sequence for later analysis
seqfromfile = record.seq
seqfromfile

# length of sequence
len(seqfromfile)

#molecular weight
molecular_weight(seqfromfile)

# CODON
seqfromfile[0:4]
seqfromfile[0:3]+seqfromfile[-3:]
concat = seqfromfile[:6]+ seqfromfile[-5:]
concat

#GC content using Biopython
GC(seqfromfile)

#Transcribe
mRNA = seqfromfile.transcribe()
mRNA[:10]

#Back transcribe
mRNA.back_transcribe()

protein_seq = seqfromfile.translate()
protein_seq[:10]

len(protein_seq)
