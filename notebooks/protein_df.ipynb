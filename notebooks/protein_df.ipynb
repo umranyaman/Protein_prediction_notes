# This code takes a protein sequence, calculates the frequency of each amino acid, visualizes the frequency using a histogram, 
# converts the sequence to a dataframe, adds a column with sequence lengths, sorts the sequences based on their length, selects the longest sequence, 
# writes the sequence to a file in FASTA format, and returns the result.

# Listing the most common amino acids
common_amino = Counter(protein_seq)
common_amino.most_common(10)

# visualize all 20 amino acid occurrences in the form of a histogram
del common_amino['*']
pylab.bar(common_amino.keys(), common_amino.values())
pylab.title('protein sequence frequency')
pylab.xlabel('amino acids')
pylab.ylabel("frequency")


protein_list = [str(i) for i in protein_seq.split('*')]
protein_list[:10]

# convert sequences to dataframe
large_proteins = [x for x in protein_list if len(x) >10]
df = pd.DataFrame({'protein_seq':large_proteins})

# Add a column with sequence lengths
df['length'] = df['protein_seq'].apply(len)
df.head()

# sort sequence data
df.sort_values(by = ['length'], ascending=False)[:10]

# let's take a single protein from the table
one_large_protein = df.nlargest(1, 'length')
single_prot = one_large_protein.iloc[0,0]
single_prot

# write to a file
with open ("Sequence_data/single_prot.fasta", "w") as file:
    file.write(">large protein\n" + single_prot)
