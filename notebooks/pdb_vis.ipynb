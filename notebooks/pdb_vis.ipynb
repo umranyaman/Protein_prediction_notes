# Reading PDB file

# Retrieving PDB structure from RCSB PDB
seqid.id

# split seqid
seqid.id.split('|')

# link format e.g. https://files.rcsb.org/download/6YYT.pdb
urllib.request.urlretrieve('https://files.rcsb.org/download/your_pdb.pdb', 'Sequence_data/your_pdb.pdb')

parser = PDBParser()
structure = parser.get_structure("6YYT", "Sequence_data/6YYT.pdb")
structure

# Identifying the number of chains
for chain in structure[0]:
    print(f"chain ID: {chain.id}")

# Visualising the protein structure

# nglview
nv.demo()

view = nv.show_biopython(structure)
view

view.render_image()

# nlgview GUI for interactive view
# GUI
nv.show_biopython(structure,gui=True)




